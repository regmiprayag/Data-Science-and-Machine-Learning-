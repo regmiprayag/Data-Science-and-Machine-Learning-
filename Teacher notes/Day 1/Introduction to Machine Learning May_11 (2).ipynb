{
 "cells": [
  {
   "cell_type": "markdown",
   "id": "e0b73e99",
   "metadata": {},
   "source": [
    "## Introduction to Machine Learning"
   ]
  },
  {
   "cell_type": "markdown",
   "id": "92022e12",
   "metadata": {},
   "source": [
    "The term Machine Learning was coined by Arthur Samuel in 1959, an American pioneer in the field of computer gaming and artificial intelligence, and stated that “it gives computers the ability to learn without being explicitly programmed”.   \n",
    "\n",
    "Machine learning is a subfield of artificial intelligence (AI). The goal of machine learning generally is to understand the structure of data and fit that data into models that can be understood and utilized by people for automation and decision support systems.  \n",
    "\n",
    "Machine learning is a field of transforming information into knowledge. Machine learning techniques are used to automatically find the valuable underlying patterns within complex data which would be almost impossible to extract by the humans."
   ]
  },
  {
   "cell_type": "markdown",
   "id": "e2c8af89",
   "metadata": {},
   "source": [
    "## Need of Machine Learning\n",
    "Machine learning is an emerging field as there is rapid increment in volumes and variety of data, the access and affordability of computational power, and the availability of high speed Internet.\n",
    "\n",
    "The Concept of Machine Learning can be applied to any organization/domain to in order to cut costs, mitigate risks, and improve overall quality of life including recommending products/services, detecting cybersecurity breaches, and enabling self-driving cars. With greater access to data and computation power, machine learning is becoming more ubiquitous every day and will soon be integrated into many facets of human life.  \n",
    "\n",
    "In the earlier days, to help user with the decision from machine, the systems used hardcoded rules of **if** and **else** construct. To take an example of sentiment analysis, to classify the text as **positive** or **negative**, list of positive and negative words can be constructed and then the rules can be applied. However, this is not the feasible solution. So, moving from **Bag of words**, **n-grams**, **skip-grams**, **word2vec**, **doc2vec** and the **transformers** model, now the sentiment analysis has been a common task due to the advancements in machine learning and vector representation.\n",
    "\n",
    "\n",
    "Some of the application of machine learning includes: \n",
    "- Fraud Detection Systems \n",
    "- Customer Churn Prediction\n",
    "- Association Minining\n",
    "- Handwritten Optical Character Recognition\n",
    "- Regression Analysis\n",
    "- Recommendation System\n",
    "- Chatbots\n",
    "- Machine Translation"
   ]
  },
  {
   "cell_type": "markdown",
   "id": "74c75973",
   "metadata": {},
   "source": [
    "## Traditional Programming vs Machine Learning"
   ]
  },
  {
   "cell_type": "markdown",
   "id": "b45c29f7",
   "metadata": {},
   "source": [
    "In traditional Programming, data and program is fed to the computer to produce the output. Traditional programming is a manual process where a programmer creates the program. But without anyone programming the logic, one has to manually formulate or code rules.\n",
    "\n",
    "Data and output is fed to the computer to create a program which is then used in traditional programming.In Machine Learning the algorithms automatically formulate the rules from the data, which is very powerful in many business and automation aspects.\n",
    "\n",
    "![Machine Learning vs Traditional System](images/ml_vs_traditional.png)"
   ]
  },
  {
   "cell_type": "markdown",
   "id": "b62cd4a7",
   "metadata": {},
   "source": [
    "## Types of Machine Learning Systems"
   ]
  },
  {
   "cell_type": "markdown",
   "id": "a590932c",
   "metadata": {},
   "source": [
    "Machine learning implementations are classified into three major categories, depending on the nature of the learning or how feedback on the learning is given to the system being developed.   \n",
    "- Supervised Learning \n",
    "- Unsupervised Learning \n",
    "- Reinforcement Learning "
   ]
  },
  {
   "cell_type": "markdown",
   "id": "3d1bc036",
   "metadata": {},
   "source": [
    "### Supervised Learning "
   ]
  },
  {
   "cell_type": "markdown",
   "id": "73bd6ea4",
   "metadata": {},
   "source": [
    "In supervised learning, the system is provided with data that are labeled with their desired outputs. The purpose of this method is for the algorithm to be able to “learn” by comparing its actual output with the “taught” outputs to find errors, and modify the model accordingly. Supervised learning therefore uses patterns to predict label values on additional unlabeled data. \n",
    "\n",
    "![Supervised Learning](images/supervised.png)  \n",
    "\n",
    "In supervised learning, you will have input `X` with labels `y`. Any algorithm under this approach is used to learn the **mapping function** that maps the input **X** to output **y**. Hence, the ultimate target is to approximate the function such that the **new test inputs** are mapped correctly.  \n",
    "\n",
    "Supervised Learning can be further divided into two categories:  \n",
    "- Classification \n",
    "- Regression"
   ]
  },
  {
   "cell_type": "markdown",
   "id": "5fff2bae",
   "metadata": {},
   "source": [
    "#### Classification"
   ]
  },
  {
   "cell_type": "markdown",
   "id": "a6d1bb82",
   "metadata": {},
   "source": [
    "#### Regression"
   ]
  },
  {
   "cell_type": "markdown",
   "id": "12ed37a6",
   "metadata": {},
   "source": [
    "Regression is the kind of Supervised Learning that learns from the Labelled Datasets and is then able to predict a continuous-valued output for the new data given to the algorithm. It is used whenever the output required is a number such as money or height etc. Some of the regression tasks are as follows:  \n",
    "- Sales Forecasting in Super Markets\n",
    "- House Price Prediction\n",
    "- Prediction of person's annual income \n",
    "- Crop yield Prediction\n",
    "\n",
    "The future values are predicted from the past data. \n",
    "\n",
    "![Regression](images/regression.png)\n",
    "\n",
    "Some of the **popular** regression algorithms are as follows:  \n",
    "- Linear Regression\n",
    "- Random Forest Regressor\n",
    "- Ridge Regression \n",
    "- Lasso Regression \n",
    "- Polynomial Regression"
   ]
  },
  {
   "cell_type": "markdown",
   "id": "cc14bca6",
   "metadata": {},
   "source": [
    "### Unsupervised Learning "
   ]
  },
  {
   "cell_type": "markdown",
   "id": "6ee7783e",
   "metadata": {},
   "source": [
    "In unsupervised learning, the data used has no labels. Algorithm here learns to extract the patterns from the data. The algorithm is trained with unlabelled data to extract the knowledge from them. \n",
    "\n",
    "Some of the popular Unsupervised learning algorithms are as follows: \n",
    "- Clustering\n",
    "- Dimensionality Reduction \n",
    "- Associations\n"
   ]
  },
  {
   "cell_type": "markdown",
   "id": "cdb8704c",
   "metadata": {},
   "source": [
    "#### Clustering\n"
   ]
  },
  {
   "cell_type": "markdown",
   "id": "bb29a375",
   "metadata": {},
   "source": [
    "Clustering is the task of dividing the population or data points into a number of groups such that data points in the same groups are **more similar/homogeneous** to other data points in the same group and **dissimilar/hetereogeneous** to the data points in other groups. It is basically a collection of objects on the basis of similarity and dissimilarity between them.  \n",
    "\n",
    "Clustering is widely used approach for the tasks like:   \n",
    "- Market Segmentation\n",
    "- Statistical data analysis\n",
    "- Social network analysis\n",
    "- Image segmentation\n",
    "- Anomaly detection\n",
    "\n",
    "![Clustering Unsupervised](images/unsupervised.png)\n",
    "\n",
    "Some of the **popular** clustering algorithms are as follows:  \n",
    "- KMEANS \n",
    "- Density-Based Spatial Clustering of Applications with Noise(DBSCAN).\n",
    "- Agglomerative Hierarchical algorithm.\n"
   ]
  },
  {
   "cell_type": "markdown",
   "id": "33ae41f3",
   "metadata": {},
   "source": [
    "#### Dimensionality Reduction"
   ]
  },
  {
   "cell_type": "markdown",
   "id": "a8c44f4a",
   "metadata": {},
   "source": [
    "As **data** is key to machine learning algorithms, the `features` present in the data describes the story behind the data. The number of input **features**, **variables**, or **columns** present in a given dataset is known as dimensionality. All the features in the dataset may not be required for the algorithm and the features might be redundant as well. This creates an obstacle and difficulty to visualize the data. In such scenario, **dimensionality reduction** becomes much more effective.  \n",
    "\n",
    "Some of the popular dimensionality reduction techniques includes:  \n",
    "- Principal Component Analysis (PCA)\n",
    "- Linear Discriminant Analysis (LDA)\n",
    "\n",
    "*Note: We will cover this later in the chapter*"
   ]
  },
  {
   "cell_type": "markdown",
   "id": "0e9fb740",
   "metadata": {},
   "source": [
    "### Reinforcement Learning"
   ]
  },
  {
   "cell_type": "markdown",
   "id": "8e86f7aa",
   "metadata": {},
   "source": [
    "Reinforcement Learning is **learning what to do and how to map situations to actions**. The end result is to maximize the numerical reward signal. The learner is not told which action to take, but instead must discover which action will yield the maximum reward.\n",
    "\n",
    "It is a type of machine learning technique that can enable an agent to learn in an interactive environment by trial and error using feedback from its own actions and experiences.\n",
    "\n",
    "RL solves a specific type of problem where decision making is sequential, and the goal is long-term, such as game-playing, robotics, trading, etc.\n",
    "\n",
    "![Reinforcement Learning](images/rl.gif)\n",
    "\n",
    "The major components of RL includes the following:  \n",
    "\n",
    "- Agent: An entity that can perceive/explore the environment and act upon it.\n",
    "- Environment: A situation in which an agent is present or surrounded by. In RL, we assume the stochastic    environment, which means it is random in nature.\n",
    "- Action: Actions are the moves taken by an agent within the environment.\n",
    "- State: State is a situation returned by the environment after each action taken by the agent.\n",
    "- Reward: A feedback returned to the agent from the environment to evaluate the action of the agent."
   ]
  },
  {
   "cell_type": "markdown",
   "id": "89596f3a",
   "metadata": {},
   "source": [
    "## Challenges in Machine Learning  \n",
    "- Insufficient Data\n",
    "- Irrelevent features \n",
    "- Hyperparameter tuning and model selection\n",
    "- Computation needed for experiments \n",
    "- Complex Business models\n",
    "- Data Security"
   ]
  },
  {
   "cell_type": "markdown",
   "id": "c35f20d7",
   "metadata": {},
   "source": [
    "## Machine Learning Workflow"
   ]
  },
  {
   "cell_type": "markdown",
   "id": "f14463a1",
   "metadata": {},
   "source": [
    "The general workflow and the process of machine learning is illustrated below: \n",
    "- Gathering Data\n",
    "- Data preparation\n",
    "- Data Wrangling\n",
    "- Analyse Data\n",
    "- Train the model\n",
    "- Test the model\n",
    "- Deployment"
   ]
  }
 ],
 "metadata": {
  "kernelspec": {
   "display_name": "Python 3 (ipykernel)",
   "language": "python",
   "name": "python3"
  },
  "language_info": {
   "codemirror_mode": {
    "name": "ipython",
    "version": 3
   },
   "file_extension": ".py",
   "mimetype": "text/x-python",
   "name": "python",
   "nbconvert_exporter": "python",
   "pygments_lexer": "ipython3",
   "version": "3.11.7"
  }
 },
 "nbformat": 4,
 "nbformat_minor": 5
}
